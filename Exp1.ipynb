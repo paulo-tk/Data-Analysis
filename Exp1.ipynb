{
 "cells": [
  {
   "cell_type": "markdown",
   "metadata": {
    "id": "Yfqh6QGEQmqg"
   },
   "source": [
    "##**Goals**\n",
    "1.   Understand the relationships between sinusoidal voltages and currents in circuits containing resistors, capacitors and inductors.\n",
    "2. Understand how these circuits can be used as filters of electrical signals.\n",
    "3. Determine the frequency response of the amplitude and phase of RC filters; low-pass, high-pass\n",
    "4. Describe the behavior of filters through graphs of transmittance and phase on a logarithmic scale (Bode diagrams).\n",
    "\n",
    "##**Items to include in your lab report**\n",
    "- Graphs of Bode diagrams of the high-pass and low-pass filters. You must generate the graphs, based on the data provided in Downloadable dataset 1.\n",
    "- In the same graph as the data, include the curves that represent fitting of the transfer functions. An example of this procedure in Python can be seen in Data analysis: Fitting the filter transfer function\n",
    "  - Make sure you can also estimate the asymptotic slopes of the ampitude plots, e.g., what is the filter roll-off in dB/decade?\n",
    "  - Based on on the intersection between the asymptotes, provide an estimate of the cut-off frequency of the filter. Estimate the RC constant of the filter based on your estimate, compare with your fitting results.\n",
    "- Use the FFT function in Python (or in a program of your choice) to calculate the Fourier transform of two-frequncies signal provided Downloadable dataset 2.\n",
    "  - The difference between the two signals is that the channel 2 signal was filtered by an RC circuit. Determine whether the circuit used was a high-pass or low-pass.\n",
    "- Provide hyperlinks to your TinkerCAD simulation and upload your QUCS file.\n",
    "\n"
   ]
  },
  {
   "cell_type": "markdown",
   "metadata": {
    "id": "dyHjWofjdaFg"
   },
   "source": [
    "###**RC passa baixa**"
   ]
  },
  {
   "cell_type": "code",
   "execution_count": 1,
   "metadata": {
    "id": "clbgDJ4adOBo"
   },
   "outputs": [],
   "source": [
    "import matplotlib.pyplot as plt  # importar a bilioteca pyplot para fazer gráficos\n",
    "import numpy as np   # importar a biblioteca Numpy para lidar com matrizes\n",
    "import time          # importar a bilioteca para funções temporais\n",
    "import pandas as pd   # importa bilioteca pandas para  lidar com processamento de dados\n",
    "import os            # biblioteca para lidar com diretórios\n",
    "import scipy.io #pacote para carregar dados do matlab\n",
    "from scipy.optimize import curve_fit # pacote para ajuste de curvas\n",
    "#from uncertainties import ufloat # pacote para lidar com incertezas\n",
    "#from scipy import optimize"
   ]
  },
  {
   "cell_type": "code",
   "execution_count": 2,
   "metadata": {
    "colab": {
     "base_uri": "https://localhost:8080/",
     "height": 128
    },
    "id": "GcLy3RmKeWjc",
    "outputId": "abeff8aa-2d6a-465b-f60a-ea7a4e3aaca6"
   },
   "outputs": [
    {
     "ename": "SyntaxError",
     "evalue": "invalid syntax (2780888286.py, line 2)",
     "output_type": "error",
     "traceback": [
      "\u001b[0;36m  File \u001b[0;32m\"/tmp/ipykernel_6559/2780888286.py\"\u001b[0;36m, line \u001b[0;32m2\u001b[0m\n\u001b[0;31m    folder_path = C:\\Users\\Leo\\Desktop\\Unicamp\\Labs\\F 088\\passa-baixas\u001b[0m\n\u001b[0m                   ^\u001b[0m\n\u001b[0;31mSyntaxError\u001b[0m\u001b[0;31m:\u001b[0m invalid syntax\n"
     ]
    }
   ],
   "source": [
    "file_name = 'dados_sweep.csv'\n",
    "folder_path = C:\\Users\\Leo\\Desktop\\Unicamp\\Labs\\F 088\\passa-baixas    \n",
    "file=os.path.join(folder_path,file_name)\n",
    "dados = pd.read_csv(file, sep=',') #separador ,\n",
    "#ver o cabeçalho....\n",
    "dados.head()"
   ]
  },
  {
   "cell_type": "markdown",
   "metadata": {
    "id": "7LsCY4QkeIOT"
   },
   "source": [
    "# RC passa alta"
   ]
  },
  {
   "cell_type": "code",
   "execution_count": null,
   "metadata": {
    "id": "v1YorfT5djBy"
   },
   "outputs": [],
   "source": []
  },
  {
   "cell_type": "markdown",
   "metadata": {
    "id": "eBP2YRzsTL6t"
   },
   "source": [
    "##FFT"
   ]
  },
  {
   "cell_type": "code",
   "execution_count": null,
   "metadata": {
    "id": "VYciF8YzTPaW"
   },
   "outputs": [],
   "source": [
    "from scipy.signal import blackman\n",
    "\n",
    "def fft540(time,amp):\n",
    "    \"\"\"Função para calcular a FFT de um sinal. \n",
    "    Esta função é baseada no comando FFT no Numpy.  \n",
    "    \n",
    "    Arguments:\n",
    "        time {[float]} -- vetor de tempo\n",
    "        amp {[float]} -- vetor de amplitude\n",
    "    \n",
    "    Returns:\n",
    "        [float] -- vetor de frequências\n",
    "        [complex float] -- vetor de amplitudes complexas\n",
    "    \"\"\"    \n",
    "    #### fft ####\n",
    "    timestep = time[1]-time[0] # intervalo de amostragem = dt\n",
    "    n = len(amp)\n",
    "    fs = 1/timestep # frequencia de amostragem\n",
    "\n",
    "    #vetor de frequencias (positivas e negativas)\n",
    "    freq = np.fft.fftfreq(n, d=timestep)\n",
    "    #fft\n",
    "    w = blackman(n) # window to optimize the tranform, and minimize artifacts due to  finite time-window\n",
    "    yfft = 2*np.fft.fft(w*amp)/n # fft computing and normalization, fator 2 para energia em freq. positivas\n",
    "\n",
    "    return freq[:n//2], yfft[:n//2]\n"
   ]
  },
  {
   "cell_type": "code",
   "execution_count": null,
   "metadata": {
    "id": "tg94ItOETaJz"
   },
   "outputs": [],
   "source": [
    "data = pd.read_csv('two-tones/fft_exemplo_experimental_pa_00_34_22.dat',sep='\\t')\n",
    "data.head()\n",
    "t = data['time (s)']\n",
    "v1 = data['Channel 1 (V)']\n",
    "v2 = data['Channel 2 (V)']\n",
    "freq,Y1 = fft540(t,v1)### gráfico com 4 eixos###\n",
    "freq,Y2 = fft540(t,v2)### gráfico com 4 eixos###\n",
    "fig, ax = plt.subplots(2, 2,figsize=[10,7])\n",
    "#tempo\n",
    "ax0 = ax[0,0]\n",
    "ax0 .plot(1e3*t,v1)\n",
    "ax0 .plot(1e3*t,v2)\n",
    "ax0 .set_xlabel('Tempo (ms)')\n",
    "ax0 .set_ylabel('Amplitude (V)')\n",
    "# ax0 .axvline(20,ls='--',c='gray')\n",
    "# ax0 .axvline(25,ls='--',c='gray')\n",
    "ax0.grid(True)\n",
    "ax0.set_title('(a)')\n",
    "#tempo com zoom\n",
    "ax0 = ax[1,0]\n",
    "ax0 .plot(1e3*t,v1)\n",
    "ax0 .plot(1e3*t,v2)\n",
    "ax0.set_xlabel('Tempo (ms)')\n",
    "ax0.set_ylabel('Amplitude (V)')\n",
    "ax0.set_xlim([-2.5,2.5])\n",
    "ax0.grid(True)\n",
    "# ax0.axvline(20,ls='--',c='gray')\n",
    "# ax0.axvline(25,ls='--',c='gray')\n",
    "ax0.set_title('(b)')\n",
    "#fft linear - frequencias negativas e positivas\n",
    "ax0 = ax[0,1]\n",
    "ax0.plot(freq*1e-3, np.abs(Y1),'*-') # plotting the spectrum\n",
    "ax0.plot(freq*1e-3, np.abs(Y2),'*-') # plotting the spectrum\n",
    "ax0.set_xlabel('Freq (kHz)')\n",
    "ax0.set_ylabel('|Y(freq)|')\n",
    "ax0.set_xlim([0,10])\n",
    "ax0.grid(True)\n",
    "ax0.axvline(0,ls='--',c='gray')\n",
    "ax0.axvline(1.1,ls='--',c='gray')\n",
    "ax0.set_title('(c)')\n",
    "#fft linear - ZOOM - apenas frequencias positivas\n",
    "ax0 = ax[1,1]\n",
    "ax0.plot(freq*1e-3, np.abs(Y1),'*-') # plotting the spectrum\n",
    "ax0.plot(freq*1e-3, np.abs(Y2),'*-') # plotting the spectrum\n",
    "ax0.set_xlabel('Freq (kHz)')\n",
    "ax0.set_ylabel('|Y(freq)|')\n",
    "ax0.set_xlim([0,6])\n",
    "ax0.axvline(0,ls='--',c='gray')\n",
    "ax0.axvline(1.1,ls='--',c='gray')\n",
    "ax0.grid(True)\n",
    "ax0.set_title('(d)')\n",
    "#ajustar e mostrar\n",
    "plt.tight_layout()\n",
    "glue(\"fig_fft2\",fig,display=False)"
   ]
  },
  {
   "cell_type": "code",
   "execution_count": null,
   "metadata": {
    "id": "AsEm2W19a-t8"
   },
   "outputs": [],
   "source": [
    "data2 = pd.read_csv('two-tones/fft_exemplo_experimental_pb_20_13_54.dat',sep='\\t')\n",
    "data2.head()\n",
    "t = data2['time (s)']\n",
    "v1 = data2['Channel 1 (V)']\n",
    "v2 = data2['Channel 2 (V)']\n",
    "freq,Y1 = fft540(t,v1)### gráfico com 4 eixos###\n",
    "freq,Y2 = fft540(t,v2)### gráfico com 4 eixos###\n",
    "fig, ax = plt.subplots(2, 2,figsize=[10,7])\n",
    "#tempo\n",
    "ax0 = ax[0,0]\n",
    "ax0 .plot(1e3*t,v1)\n",
    "ax0 .plot(1e3*t,v2)\n",
    "ax0 .set_xlabel('Tempo (ms)')\n",
    "ax0 .set_ylabel('Amplitude (V)')\n",
    "# ax0 .axvline(20,ls='--',c='gray')\n",
    "# ax0 .axvline(25,ls='--',c='gray')\n",
    "ax0.grid(True)\n",
    "ax0.set_title('(a)')\n",
    "#tempo com zoom\n",
    "ax0 = ax[1,0]\n",
    "ax0 .plot(1e3*t,v1)\n",
    "ax0 .plot(1e3*t,v2)\n",
    "ax0.set_xlabel('Tempo (ms)')\n",
    "ax0.set_ylabel('Amplitude (V)')\n",
    "ax0.set_xlim([-2.5,2.5])\n",
    "ax0.grid(True)\n",
    "# ax0.axvline(20,ls='--',c='gray')\n",
    "# ax0.axvline(25,ls='--',c='gray')\n",
    "ax0.set_title('(b)')\n",
    "#fft linear - frequencias negativas e positivas\n",
    "ax0 = ax[0,1]\n",
    "ax0.plot(freq*1e-3, np.abs(Y1),'*-') # plotting the spectrum\n",
    "ax0.plot(freq*1e-3, np.abs(Y2),'*-') # plotting the spectrum\n",
    "ax0.set_xlabel('Freq (kHz)')\n",
    "ax0.set_ylabel('|Y(freq)|')\n",
    "ax0.set_xlim([0,10])\n",
    "ax0.grid(True)\n",
    "ax0.axvline(0,ls='--',c='gray')\n",
    "ax0.axvline(1.1,ls='--',c='gray')\n",
    "ax0.set_title('(c)')\n",
    "#fft linear - ZOOM - apenas frequencias positivas\n",
    "ax0 = ax[1,1]\n",
    "ax0.plot(freq*1e-3, np.abs(Y1),'*-') # plotting the spectrum\n",
    "ax0.plot(freq*1e-3, np.abs(Y2),'*-') # plotting the spectrum\n",
    "ax0.set_xlabel('Freq (kHz)')\n",
    "ax0.set_ylabel('|Y(freq)|')\n",
    "ax0.set_xlim([0,6])\n",
    "ax0.axvline(0,ls='--',c='gray')\n",
    "ax0.axvline(1.1,ls='--',c='gray')\n",
    "ax0.grid(True)\n",
    "ax0.set_title('(d)')\n",
    "#ajustar e mostrar\n",
    "plt.tight_layout()\n",
    "glue(\"fig_fft2\",fig,display=False)"
   ]
  }
 ],
 "metadata": {
  "colab": {
   "collapsed_sections": [],
   "name": "Exp1",
   "provenance": []
  },
  "kernelspec": {
   "display_name": "Python 3 (ipykernel)",
   "language": "python",
   "name": "python3"
  },
  "language_info": {
   "codemirror_mode": {
    "name": "ipython",
    "version": 3
   },
   "file_extension": ".py",
   "mimetype": "text/x-python",
   "name": "python",
   "nbconvert_exporter": "python",
   "pygments_lexer": "ipython3",
   "version": "3.8.10"
  }
 },
 "nbformat": 4,
 "nbformat_minor": 1
}
