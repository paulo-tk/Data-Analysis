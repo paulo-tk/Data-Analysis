{
 "cells": [
  {
   "cell_type": "code",
   "execution_count": 1,
   "id": "cd7964f9",
   "metadata": {},
   "outputs": [
    {
     "name": "stderr",
     "output_type": "stream",
     "text": [
      "/home/paulotk/.local/lib/python3.8/site-packages/skimage/io/manage_plugins.py:23: UserWarning: Your installed pillow version is < 8.1.2. Several security issues (CVE-2021-27921, CVE-2021-25290, CVE-2021-25291, CVE-2021-25293, and more) have been fixed in pillow 8.1.2 or higher. We recommend to upgrade this library.\n",
      "  from .collection import imread_collection_wrapper\n"
     ]
    }
   ],
   "source": [
    "import matplotlib\n",
    "import matplotlib.pyplot as plt  # importar a bilioteca pyplot para fazer gráficos\n",
    "from matplotlib import colors\n",
    "#Comandos opcionais para formatar gráfico\n",
    "font = {'family' : 'Arial',\n",
    "        'weight' : 'normal',\n",
    "        'size'   : 12}\t\n",
    "lines = {'linewidth' : 1.0}\n",
    "figure = {'figsize' : [10.0, 10/1.6]}\n",
    "matplotlib.rc('font', **font)\n",
    "matplotlib.rc('lines', **lines)\n",
    "matplotlib.rc('figure', **figure)\n",
    "\n",
    "import numpy as np   # importar a biblioteca Numpy para lidar com matrizes\n",
    "import pandas as pd   # importa bilioteca pandas para  lidar com processamento de dados\n",
    "import os #com\n",
    "import glob2 as glob\n",
    "from scipy.optimize import curve_fit # pacote para ajuste de curvas\n",
    "from scipy.signal import find_peaks\n",
    "from scipy import signal\n",
    "from scipy.optimize import curve_fit as fit\n",
    "from skimage import io\n",
    "%matplotlib inline"
   ]
  },
  {
   "cell_type": "code",
   "execution_count": 2,
   "id": "4ef6b8a4",
   "metadata": {},
   "outputs": [],
   "source": [
    "#\"_m\" in the end means \"measured\"\n",
    "#\"_t\" in the end means \"theoretical\"\n",
    "#\"_f\" in the end means \"fit\"\n",
    "positions_m = []"
   ]
  },
  {
   "cell_type": "code",
   "execution_count": 4,
   "id": "a253b5c6",
   "metadata": {},
   "outputs": [],
   "source": [
    "d_plates = 7.6e-3\n",
    "rho_oil = 886\n",
    "g = 9.81\n",
    "n_air = 1.88810e-5\n",
    "b = 8.2e-3\n",
    "press = 10210\n",
    "vf = 0.03111e-3 #0.0523e-3#0.0917e-3#0.1614e-3\n",
    "#0.1301e-3#0.1514e-3#0.0379e-3#0.0571e-3#0.0549e-3#0.0581e-3#0.0905e-3#0.0464e-3\n",
    "\n",
    "vf_list0 = [0.046466602129719, 0.090493136756482, 0.058134083450539,\n",
    "0.054933875890132, 0.057115198451113, 0.037884203002144, 0.151370160939539,\n",
    "0.130056546324489, 0.161350844277674, 0.091652240815542, \n",
    "0.052300657330666]\n",
    "err_vf_list0 = [0.033881897386254,0.0355871886121,0.032817627754337,\n",
    "               0.03560528992879,0.033881897386254,0.050035739814153,\n",
    "               0.030448020878643,0.030448020878643,0.043777360850532,\n",
    "               0.006732063858434,0.006668571972945]\n",
    "vr = 0.19164e-3 #0.1505e-3#0.2688e-3#0.3750e-3\n",
    "#0.1402e-3#0.3290e-3#0.2862e-3#0.2163e-3#0.3179e-3#0.2597e-3#0.3801e-3#0.168833e-3\n",
    "vr_list0 = [0.168833766753351, 0.3800629590766, 0.259732360097324,\n",
    "           0.317923763179238, 0.216342254663423, 0.286168521462639, 0.328957239309827,\n",
    "           0.140158355327129, 0.375041213320145, 0.268776648081338, 0.150539447066757]\n",
    "\n",
    "err_vr_list0 =[0.014002800560112, 0.014690451206716, 0.01419302514193,\n",
    "              0.01419302514193, 0.01419302514193, 0.013910969793323, 0.008752188047012, \n",
    "              0.009723572718433,0.01153972964062, 0.011479173499508, 0.0118004045853]\n",
    "vf_list = []\n",
    "err_vf_list = []\n",
    "vr_list = []\n",
    "err_vr_list = []\n",
    "for i in range(11):\n",
    "    vf_list.append(vf_list0[i]*1e-3)\n",
    "    err_vf_list.append(err_vf_list0[i]*1e-3)\n",
    "    vr_list.append(vr_list0[i]*1e-3)\n",
    "    err_vr_list.append(err_vr_list0[i]*1e-3)\n",
    "V = 504"
   ]
  },
  {
   "cell_type": "code",
   "execution_count": 6,
   "id": "76ade482",
   "metadata": {},
   "outputs": [
    {
     "name": "stdout",
     "output_type": "stream",
     "text": [
      "raios = [3.829620680227039e-07, 6.211074540766872e-07, 4.5256425786844685e-07, 4.3405066544870943e-07, 4.467137276014144e-07, 3.2753480221356313e-07, 8.794328369252938e-07, 7.953504467612555e-07, 9.169646837493681e-07, 6.266322754711845e-07, 4.185037937407539e-07]\n",
      "carga = 8.685865909285543e-20\n",
      "carga = 1.4287147604562034e-19 +/- 1.0484885915290098e-19\n",
      "carga = 6.840224881578618e-19 +/- 2.702938208483641e-19\n",
      "carga = 2.7824604676198053e-19 +/- 1.5780856822124718e-19\n",
      "carga = 3.04718257964101e-19 +/- 1.97970507944685e-19\n",
      "carga = 2.343151474789015e-19 +/- 1.3984793323594815e-19\n",
      "carga = 1.6500772425364565e-19 +/- 2.1808229271275654e-19\n",
      "carga = 1.1848940432537665e-18 +/- 2.4041661526362238e-19\n",
      "carga = 5.7388789064941795e-19 +/- 1.401299879324145e-19\n",
      "carga = 1.407159474349342e-18 +/- 3.8423470566563264e-19\n",
      "carga = 5.312380573516036e-19 +/- 4.513738781007445e-20\n",
      "carga = 1.5606994245584942e-19 +/- 2.3359455384945305e-20\n"
     ]
    }
   ],
   "source": [
    "a = np.sqrt((b/(2*press))**2+9*n_air*vf/(2*rho_oil*g))-b/(2*press)\n",
    "a_list = []\n",
    "for i in range(len(vf_list)):\n",
    "    a_list.append(np.sqrt((b/(2*press))**2+9*n_air*vf_list[i]/(2*rho_oil*g))-b/(2*press))\n",
    "\n",
    "q_list = []\n",
    "deltaq_list = []\n",
    "for i in range(len(vf_list)):\n",
    "    q_list.append( (4*np.pi/3)*(a_list[i]**3)*rho_oil*g*d_plates*(vf_list[i]+vr_list[i])/(V*vf_list[i]) )\n",
    "\n",
    "for i in range(len(vf_list)):\n",
    "    deltaq_list.append( q_list[i]*np.sqrt( (err_vf_list[i]/vf_list[i])**2+ (err_vr_list[i]/vr_list[i])**2 ) )\n",
    "\n",
    "q=(4*np.pi/3)*(a**3)*rho_oil*g*d_plates*(vf+vr)/(V*vf)\n",
    "print(\"raios =\", a_list)\n",
    "print(\"carga =\", q)\n",
    "for i in range(len(vf_list)):\n",
    "    print(\"carga =\", q_list[i], \"+/-\", deltaq_list[i])"
   ]
  },
  {
   "cell_type": "code",
   "execution_count": 5,
   "id": "5e5aa6f1",
   "metadata": {},
   "outputs": [
    {
     "name": "stdout",
     "output_type": "stream",
     "text": [
      "1.0047021831425154\n",
      "1.9590649310380654\n",
      "4.8213023912470545\n",
      "2.1454670822994695\n",
      "1.6503910010770264\n",
      "1.1636579178416921\n",
      "8.35306400501206\n",
      "4.046941825673097\n",
      "9.919594701201977\n",
      "3.746606764999484\n",
      "1.0996241306119108\n"
     ]
    },
    {
     "data": {
      "text/html": [
       "<div>\n",
       "<style scoped>\n",
       "    .dataframe tbody tr th:only-of-type {\n",
       "        vertical-align: middle;\n",
       "    }\n",
       "\n",
       "    .dataframe tbody tr th {\n",
       "        vertical-align: top;\n",
       "    }\n",
       "\n",
       "    .dataframe thead th {\n",
       "        text-align: right;\n",
       "    }\n",
       "</style>\n",
       "<table border=\"1\" class=\"dataframe\">\n",
       "  <thead>\n",
       "    <tr style=\"text-align: right;\">\n",
       "      <th></th>\n",
       "      <th>Charges</th>\n",
       "      <th>n</th>\n",
       "    </tr>\n",
       "  </thead>\n",
       "  <tbody>\n",
       "    <tr>\n",
       "      <th>0</th>\n",
       "      <td>1.425672e-19</td>\n",
       "      <td>1</td>\n",
       "    </tr>\n",
       "    <tr>\n",
       "      <th>1</th>\n",
       "      <td>2.779913e-19</td>\n",
       "      <td>2</td>\n",
       "    </tr>\n",
       "    <tr>\n",
       "      <th>2</th>\n",
       "      <td>6.841428e-19</td>\n",
       "      <td>5</td>\n",
       "    </tr>\n",
       "    <tr>\n",
       "      <th>3</th>\n",
       "      <td>3.044418e-19</td>\n",
       "      <td>2</td>\n",
       "    </tr>\n",
       "    <tr>\n",
       "      <th>4</th>\n",
       "      <td>2.341905e-19</td>\n",
       "      <td>2</td>\n",
       "    </tr>\n",
       "  </tbody>\n",
       "</table>\n",
       "</div>"
      ],
      "text/plain": [
       "        Charges  n\n",
       "0  1.425672e-19  1\n",
       "1  2.779913e-19  2\n",
       "2  6.841428e-19  5\n",
       "3  3.044418e-19  2\n",
       "4  2.341905e-19  2"
      ]
     },
     "execution_count": 5,
     "metadata": {},
     "output_type": "execute_result"
    }
   ],
   "source": [
    "charges_measured = [1.4256723978792294e-19, \n",
    "                    2.7799131371430147e-19, \n",
    "                    6.841428093179571e-19, \n",
    "                    3.0444177897829467e-19, \n",
    "                    2.3419048305283005e-19,\n",
    "                    1.6512305854173612e-19,\n",
    "                    1.1852997823112112e-18,\n",
    "                    5.742610450630125e-19,\n",
    "                    1.4075904881005605e-18,\n",
    "                    5.3164349995342675e-19,\n",
    "                    1.5603666413383012e-19]\n",
    "n_measured = [1, 2, 4, 2, 1, 1, 7, 4, 9, 3, 1]\n",
    "n_measured2 = [1, 2, 5, 2, 2, 1, 8, 4, 10, 4, 1]\n",
    "\n",
    "for i in range(len(charges_measured)):\n",
    "    print(charges_measured[i]/1.419e-19)\n",
    "    #n_measured2.append(round(charges_measured[i]/1.419))\n",
    "    \n",
    "\n",
    "    \n",
    "\n",
    "data = {'Charges':charges_measured,\n",
    "        'n':n_measured2}\n",
    " \n",
    "# Create DataFrame\n",
    "df = pd.DataFrame(data)\n",
    "df.head()"
   ]
  },
  {
   "cell_type": "code",
   "execution_count": 22,
   "id": "2642bc8d",
   "metadata": {},
   "outputs": [
    {
     "name": "stdout",
     "output_type": "stream",
     "text": [
      "1.419000000000014e-19\n"
     ]
    },
    {
     "data": {
      "image/png": "[encoded data removed]",
      "text/plain": [
       "<Figure size 432x288 with 1 Axes>"
      ]
     },
     "metadata": {
      "needs_background": "light"
     },
     "output_type": "display_data"
    }
   ],
   "source": [
    "res = lambda elem: np.average(np.array([min([(charge-n*elem)**2 for n in np.arange(15)]) for charge in charges_measured]))\n",
    "\n",
    "xrange = np.arange(1e-19, 4e-19, 0.001e-19)\n",
    "vals = [res(x) for x in xrange]\n",
    "elem=min(xrange[np.where(vals==min(vals))])\n",
    "print(elem)\n",
    "f, ax = plt.subplots()\n",
    "ax.plot(xrange, [res(x) for x in xrange])\n",
    "ax.set_ylabel('Residual Function')\n",
    "ax.set_xlabel('Elementary Charge (C)')\n",
    "ax.set_title('Residual Function by Elementary Charge')\n",
    "plt.show()"
   ]
  },
  {
   "cell_type": "code",
   "execution_count": 8,
   "id": "d18e4c87",
   "metadata": {},
   "outputs": [
    {
     "name": "stdout",
     "output_type": "stream",
     "text": [
      "parameter names: ['c0', 'e']\n",
      "independent variables: ['number_e']\n"
     ]
    }
   ],
   "source": [
    "from lmfit import Model, Parameters\n",
    "\n",
    "def fir_order(number_e, c0, e):\n",
    "    return c0 + e*number_e\n",
    "\n",
    "mod = Model(fir_order)\n",
    "print('parameter names: {}'.format(mod.param_names))\n",
    "print('independent variables: {}'.format(mod.independent_vars))"
   ]
  },
  {
   "cell_type": "code",
   "execution_count": 9,
   "id": "30f3c714",
   "metadata": {},
   "outputs": [
    {
     "name": "stdout",
     "output_type": "stream",
     "text": [
      "[[Model]]\n",
      "    Model(fir_order)\n",
      "[[Fit Statistics]]\n",
      "    # fitting method   = leastsq\n",
      "    # function evals   = 7\n",
      "    # data points      = 11\n",
      "    # variables        = 2\n",
      "    chi-square         = 8.2298e-39\n",
      "    reduced chi-square = 9.1442e-40\n",
      "    Akaike info crit   = -987.000475\n",
      "    Bayesian info crit = -986.204685\n",
      "[[Variables]]\n",
      "    c0: -3.4622e-21 +/- 1.4720e-20 (425.15%) (init = 0)\n",
      "    e:   1.4253e-19 +/- 3.1779e-21 (2.23%) (init = 1e-19)\n",
      "[[Correlations]] (unreported correlations are < 0.250)\n",
      "    C(c0, e) = -0.785\n",
      "OrderedDict([('c0', -3.4622216333408e-21), ('e', 1.4253431502304583e-19)])\n"
     ]
    }
   ],
   "source": [
    "params = mod.make_params(c0=0, e=1e-19)\n",
    "result = mod.fit(df['Charges'], params, number_e=df['n'])\n",
    "\n",
    "print(result.fit_report(min_correl=0.25))\n",
    "dic_result = result.params.valuesdict()\n",
    "print(dic_result)\n",
    "c0 = dic_result['c0']\n",
    "el = dic_result['e']"
   ]
  },
  {
   "cell_type": "code",
   "execution_count": 23,
   "id": "2d9f9f35",
   "metadata": {},
   "outputs": [
    {
     "data": {
      "image/png": "[encoded data removed]",
      "text/plain": [
       "<Figure size 432x288 with 1 Axes>"
      ]
     },
     "metadata": {
      "needs_background": "light"
     },
     "output_type": "display_data"
    }
   ],
   "source": [
    "x = n_measured2\n",
    "y = (c0+el*np.array(n_measured2))*1e19\n",
    "#print(y)]\n",
    "y2 = []\n",
    "for i in range(len(charges_measured)):\n",
    "    y2.append(charges_measured[i]*1e19)\n",
    "plt.plot(x, y2, '.', label='Measurements')\n",
    "plt.plot(x, y, 'r', label=\"Linear fit\")\n",
    "plt.title('Charge as a function of the estimated number of electrons')\n",
    "plt.xlabel('Estimated number of elementary charges', color='#1C2833')\n",
    "plt.ylabel('Charge (10⁻¹⁹C)', color='#1C2833')\n",
    "plt.legend(loc='upper left')\n",
    "plt.grid()\n",
    "plt.show()"
   ]
  },
  {
   "cell_type": "code",
   "execution_count": null,
   "id": "f56cd452",
   "metadata": {},
   "outputs": [],
   "source": []
  },
  {
   "cell_type": "code",
   "execution_count": null,
   "id": "6fa47f9d",
   "metadata": {},
   "outputs": [],
   "source": []
  },
  {
   "cell_type": "code",
   "execution_count": null,
   "id": "2f36a0a5",
   "metadata": {},
   "outputs": [],
   "source": []
  }
 ],
 "metadata": {
  "kernelspec": {
   "display_name": "Python 3 (ipykernel)",
   "language": "python",
   "name": "python3"
  },
  "language_info": {
   "codemirror_mode": {
    "name": "ipython",
    "version": 3
   },
   "file_extension": ".py",
   "mimetype": "text/x-python",
   "name": "python",
   "nbconvert_exporter": "python",
   "pygments_lexer": "ipython3",
   "version": "3.8.10"
  }
 },
 "nbformat": 4,
 "nbformat_minor": 5
}
