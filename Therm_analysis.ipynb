{
 "cells": [
  {
   "cell_type": "code",
   "execution_count": 13,
   "id": "cd7964f9",
   "metadata": {},
   "outputs": [],
   "source": [
    "import matplotlib\n",
    "import matplotlib.pyplot as plt  # importar a bilioteca pyplot para fazer gráficos\n",
    "from matplotlib import colors\n",
    "#Comandos opcionais para formatar gráfico\n",
    "font = {'family' : 'Arial',\n",
    "        'weight' : 'normal',\n",
    "        'size'   : 12}\t\n",
    "lines = {'linewidth' : 1.0}\n",
    "figure = {'figsize' : [10.0, 10/1.6]}\n",
    "matplotlib.rc('font', **font)\n",
    "matplotlib.rc('lines', **lines)\n",
    "matplotlib.rc('figure', **figure)\n",
    "\n",
    "import numpy as np   # importar a biblioteca Numpy para lidar com matrizes\n",
    "import pandas as pd   # importa bilioteca pandas para  lidar com processamento de dados\n",
    "import os #com\n",
    "import glob2 as glob\n",
    "from scipy.optimize import curve_fit # pacote para ajuste de curvas\n",
    "from scipy.signal import find_peaks"
   ]
  },
  {
   "cell_type": "code",
   "execution_count": 14,
   "id": "4ef6b8a4",
   "metadata": {},
   "outputs": [],
   "source": [
    "#\"_m\" in the end means \"measured\"\n",
    "#\"_t\" in the end means \"theoretical\"\n",
    "#\"_f\" in the end means \"fit\"\n",
    "positions_m = []"
   ]
  },
  {
   "cell_type": "code",
   "execution_count": 15,
   "id": "e3418c84",
   "metadata": {},
   "outputs": [
    {
     "data": {
      "text/plain": [
       "<matplotlib.collections.PathCollection at 0x7f3124008ca0>"
      ]
     },
     "execution_count": 15,
     "metadata": {},
     "output_type": "execute_result"
    },
    {
     "data": {
      "image/png": "[encoded data removed]",
      "text/plain": [
       "<Figure size 720x450 with 1 Axes>"
      ]
     },
     "metadata": {
      "needs_background": "light"
     },
     "output_type": "display_data"
    }
   ],
   "source": [
    "#dados 21/06\n",
    "\n",
    "#I_15 = [0.1, 0.3, 1.2, 3.4, 11.5, 35.9, 44.7, 5.9, 0.1] #faltaram pontos\n",
    "#V_15 = [1.0, 3.0, 10.2, 20.19, 99.7, 300, 367, 51.5, 1.5]\n",
    "\n",
    "I_15 = np.array([0.1, 0.3, 0.4, 0.6, 0.7, 1.1, 1.3, 1.6, 3.3, 5.2, 9.1, 19.0, 104.4])\n",
    "V_15 = np.array([1.7, 2.2, 3.0, 4.3, 5.1, 7.1, 8.0, 10.0, 19.5, 30.1, 50.7, 100.3, 302.0])\n",
    "\n",
    "I_20 = np.array([2.3, 15.4, 20.2, 22.0, 27.1, 31.5, 44.3, 97.1, 10.0, 18.8, 21.0, 7.1, 24.2])\n",
    "V_20 = np.array([1.2, 3.1, 5.0, 9.7, 30.3, 49.5, 100.5, 301, 2.1, 4.1, 8.0, 1.6, 19.7])\n",
    "\n",
    "I_22 = np.array([0.6,3.9,12.4,19.4,24.0,29.6,34.6,35.5,36.4,41.0,45.7,80.1,210.9])\n",
    "V_22 = np.array([0.6,1.1,2.1,3.1,4.0,5.3,7.1,8.5,10.5,20.1,30.0,99.7,300])\n",
    "\n",
    "I_24 = np.array([0.6,4.6,31.8,66.1,119.4,96.0,151.3,161.2,166.1,179.3,187.8,236.5,380.4])\n",
    "V_24 = np.array([0.4,0.9,2.1,3.2,4.9,4.0,7.1,8.5,10.1,20.1,29.9,100.1,301])\n",
    "\n",
    "#I_25 = [11.4, 60.0, 490, 524, 538, 562, 638, 287, 135.5]\n",
    "#V_25 = [1.0, 2.6, 9.9, 30.6, 50.9, 99.1, 299, 5.6, 3.9]\n",
    "\n",
    "I_25 = np.array([0.4,11.8,35.2, 80.8,168.2,270.4,545,637,746,799,818,844,887,1021])\n",
    "V_25 = np.array([0.5,1.1,2.0,3.0,4.1,5.1,7.1,8.1,10.0,20.1,29.9,49.8,99.4,300])\n",
    "\n",
    "#I_30 = [15.0, 75, 236, 1090, 8480, 15900, 16820, 18260]\n",
    "#V_30 = [1.1, 2.9, 5.0, 10.9, 29.5, 50.2, 99.8, 299]\n",
    "\n",
    "I_30 = np.array([2.0,9.4,24.4,77.4,129.4,238.0,470.0,768,1087,4210,8680,16600,17710,19280])\n",
    "V_30 = np.array([0.4,1.1,1.8,3.2,3.9,5.1,6.9,8.5,10.0,20.0,30.0,50.1,100.0,300])\n",
    "\n",
    "I_31 = np.array([0.5,4.2,21.4,57.1,104.8,202.6,420,681,1004,4370,8660,21050,47500,54200,55200])\n",
    "V_31 = np.array([0.8,1.2,2.1,3.1,3.9,5.0,6.8,8.4,9.9,20.5,30.0,50.1,99.9,300,304])\n",
    "\n",
    "plt.yscale(\"log\")\n",
    "plt.xscale(\"log\")\n",
    "plt.grid(True)\n",
    "\n",
    "plt.scatter(V_15, I_15)\n",
    "plt.scatter(V_20, I_20)\n",
    "plt.scatter(V_22, I_22)\n",
    "plt.scatter(V_24, I_24)\n",
    "plt.scatter(V_25, I_25)\n",
    "plt.scatter(V_30, I_30)\n",
    "plt.scatter(V_31, I_31)"
   ]
  },
  {
   "cell_type": "code",
   "execution_count": 16,
   "id": "8cef0a03",
   "metadata": {},
   "outputs": [],
   "source": [
    "#finding Richardson's data points\n",
    "I_20_rich = I_20[I_20 > 21.0]\n",
    "I_22_rich = I_22[I_22 > 35.0]\n",
    "I_24_rich = I_24[I_24 > 160.0]\n",
    "I_25_rich = I_25[I_25 > 750.0]\n",
    "I_30_rich = I_30[I_30 > 17000.0]\n",
    "I_31_rich = I_31[I_31 > 50000.0]"
   ]
  },
  {
   "cell_type": "code",
   "execution_count": 17,
   "id": "a253b5c6",
   "metadata": {},
   "outputs": [],
   "source": [
    "#finding Richardson's data points\n",
    "I_20_rich_mean = np.mean(I_20[I_20 > 21.0])\n",
    "I_22_rich_mean = np.mean(I_22[I_22 > 35.0])\n",
    "I_24_rich_mean = np.mean(I_24[I_24 > 160.0])\n",
    "I_25_rich_mean = np.mean(I_25[I_25 > 750.0])\n",
    "I_30_rich_mean = np.mean(I_30[I_30 > 17000.0])\n",
    "I_31_rich_mean = np.mean(I_31[I_31 > 50000.0])\n",
    "\n",
    "#finding Child's data points\n",
    "I_20_chi = I_20[I_20 <= 21.0]\n",
    "I_22_chi = I_22[I_22 <= 35.0]\n",
    "I_24_chi = I_24[I_24 <= 160.0]\n",
    "I_25_chi = I_25[I_25 <= 750.0]\n",
    "I_30_chi = I_30[I_30 <= 17000.0]\n",
    "I_31_chi = I_31[I_31 <= 50000.0]\n",
    "V_20_chi = V_20[I_20 <= 21.0]\n",
    "V_22_chi = V_22[I_22 <= 35.0]\n",
    "V_24_chi = V_24[I_24 <= 160.0]\n",
    "V_25_chi = V_25[I_25 <= 750.0]\n",
    "V_30_chi = V_30[I_30 <= 17000.0]\n",
    "V_31_chi = V_31[I_31 <= 50000.0]\n",
    "R_W = 0.27\n",
    "\n",
    "I_24_chi_2 = I_24_chi[I_24_chi >= 10.0]\n",
    "V_24_chi_2 = V_24_chi[I_24_chi >= 10.0]\n",
    "\n",
    "# Calculating Temperature using Current\n",
    "I_w = np.array([2.002, 2.253, 2.407, 2.500, 2.997, 3.151])\n",
    "d = 0.01778  # cm or 0,1778 mm\n",
    "a = I_w/(d**1.5)\n",
    "T_i = 117 + 56*a**0.5 + 0.00036*a**1.8\n",
    "\n",
    "# Calculating Temperature using resistance\n",
    "x = np.array([2.448,2.654,2.767,2.844,3.240,3.351])/0.214\n",
    "T_r = 112 + 202*x - 1.81*x**2"
   ]
  },
  {
   "cell_type": "code",
   "execution_count": 18,
   "id": "76ade482",
   "metadata": {},
   "outputs": [
    {
     "name": "stdout",
     "output_type": "stream",
     "text": [
      "parameter names: ['c0', 'c1']\n",
      "independent variables: ['Va']\n",
      "[[Model]]\n",
      "    Model(fir_order)\n",
      "[[Fit Statistics]]\n",
      "    # fitting method   = leastsq\n",
      "    # function evals   = 22\n",
      "    # data points      = 7\n",
      "    # variables        = 2\n",
      "    chi-square         = 1114.12198\n",
      "    reduced chi-square = 222.824395\n",
      "    Akaike info crit   = 39.4893823\n",
      "    Bayesian info crit = 39.3812026\n",
      "[[Variables]]\n",
      "    c0:  7.44628030 +/- 1.34188777 (18.02%) (init = 0)\n",
      "    c1: -0.86655505 +/- 0.67823007 (78.27%) (init = 0)\n",
      "[[Correlations]] (unreported correlations are < 0.300)\n",
      "    C(c0, c1) =  0.930\n",
      "OrderedDict([('c0', 7.446280302883245), ('c1', -0.8665550529942515)])\n",
      "7.446280302883245 -0.8665550529942515\n",
      "[ 10.61391214  17.48357114  38.04678804  61.06317259 103.11314763\n",
      "  79.9414169  167.43460542]\n"
     ]
    },
    {
     "data": {
      "text/plain": [
       "Text(0.5, 1.0, \"Data of electric current and anode potential for Child's Law (I=2.4 A)\")"
      ]
     },
     "execution_count": 18,
     "metadata": {},
     "output_type": "execute_result"
    },
    {
     "data": {
      "image/png": "[encoded data removed]",
      "text/plain": [
       "<Figure size 720x450 with 1 Axes>"
      ]
     },
     "metadata": {
      "needs_background": "light"
     },
     "output_type": "display_data"
    }
   ],
   "source": [
    "#5.12 - A plot of the space-charge limited thermionic emission in a FP-400 vacuum\n",
    "#tube (Child’s law). The data was taken at a filament current of 2.4 A. Every other data\n",
    "#point has been eliminated so the fit line is not obscured. Note that the fit line systematically\n",
    "#misses the data, sometimes a bit high others a bit low. The measurement errors are tiny, so\n",
    "#these small misses do result in a “too-large” χ\n",
    "#Nevertheless, the law provides an excellent\n",
    "#summary of the data over a huge range of variation.\n",
    "I_all_child = np.concatenate((I_20_chi, I_22_chi, I_24_chi, I_25_chi, I_30_chi, I_31_chi))\n",
    "V_all_child = np.concatenate((V_20_chi, V_22_chi, V_24_chi, V_25_chi, V_30_chi, V_31_chi))\n",
    "fig = plt.figure()\n",
    "ax = plt.gca()\n",
    "list_lnV = []\n",
    "list_lnI = []\n",
    "for i in range(len(V_24_chi)):\n",
    "    list_lnV.append(np.log(V_24_chi[i]))\n",
    "    list_lnI.append(np.log(I_24_chi[i]))\n",
    "######################################\n",
    "###FIT\n",
    "from lmfit import Model, Parameters\n",
    "\n",
    "def fir_order(Va, c0, c1):\n",
    "    return c0*((Va-c1)**1.5)\n",
    "\n",
    "mod = Model(fir_order)\n",
    "print('parameter names: {}'.format(mod.param_names))\n",
    "print('independent variables: {}'.format(mod.independent_vars))\n",
    "\n",
    "params = mod.make_params(c0=0, c1 = 0)\n",
    "result = mod.fit(I_24_chi, params, Va=V_24_chi)\n",
    "\n",
    "print(result.fit_report(min_correl=0.3))\n",
    "dic_result = result.params.valuesdict()\n",
    "print(dic_result)\n",
    "c0 = dic_result['c0']\n",
    "c1 = dic_result['c1']\n",
    "\n",
    "print(c0, c1)\n",
    "x = V_24_chi\n",
    "y = c0*((V_24_chi-c1)**1.5)\n",
    "print(y)\n",
    "\n",
    "#####################################\n",
    "\n",
    "#ax.plot(V_all_child , I_all_child, 'o', c='blue', markeredgecolor='none')\n",
    "ax.plot(V_24_chi , I_24_chi, 'o', c='blue', markeredgecolor='none')\n",
    "ax.plot(x, y, 'r')\n",
    "ax.set_yscale('log')\n",
    "ax.set_xscale('log')\n",
    "ax.set_xlabel('Va (V)')\n",
    "ax.set_ylabel('Ia (mA)')\n",
    "ax.set_title('Data of electric current and anode potential for Child\\'s Law (I=2.4 A)')"
   ]
  },
  {
   "cell_type": "code",
   "execution_count": 19,
   "id": "8becbba4",
   "metadata": {},
   "outputs": [
    {
     "name": "stdout",
     "output_type": "stream",
     "text": [
      "parameter names: ['c0', 'c1']\n",
      "independent variables: ['lnVa']\n",
      "[[Model]]\n",
      "    Model(fir_order)\n",
      "[[Fit Statistics]]\n",
      "    # fitting method   = leastsq\n",
      "    # function evals   = 6\n",
      "    # data points      = 7\n",
      "    # variables        = 2\n",
      "    chi-square         = 0.58939271\n",
      "    reduced chi-square = 0.11787854\n",
      "    Akaike info crit   = -13.3220091\n",
      "    Bayesian info crit = -13.4301888\n",
      "[[Variables]]\n",
      "    c0: -5.27423771 +/- 0.17310524 (3.28%) (init = 2)\n",
      "    c1:  1.99299067 +/- 0.13781777 (6.92%) (init = 1)\n",
      "[[Correlations]] (unreported correlations are < 0.250)\n",
      "    C(c0, c1) = -0.662\n",
      "OrderedDict([('c0', -5.2742377145366675), ('c1', 1.9929906737423062)])\n",
      "-5.2742377145366675 1.9929906737423062\n",
      "[0.00082478 0.00415177 0.02247024 0.05202198 0.0811573  0.12161356\n",
      " 0.2546699 ]\n"
     ]
    },
    {
     "data": {
      "text/plain": [
       "Text(0.5, 1.0, \"Data of electric current and anode potential for Child's Law (I=2.4 A)\")"
      ]
     },
     "execution_count": 19,
     "metadata": {},
     "output_type": "execute_result"
    },
    {
     "data": {
      "image/png": "[encoded data removed]",
      "text/plain": [
       "<Figure size 720x450 with 1 Axes>"
      ]
     },
     "metadata": {
      "needs_background": "light"
     },
     "output_type": "display_data"
    }
   ],
   "source": [
    "from lmfit import Model, Parameters\n",
    "\n",
    "V_24_sort = np.sort(V_24_chi)\n",
    "I_24_sort = np.sort(I_24_chi)\n",
    "\n",
    "\n",
    "I_24_ampere = I_24_sort*1e-3\n",
    "list_lnI = []\n",
    "list_lnV = []\n",
    "for i in range(len(V_24_sort)):\n",
    "    list_lnV.append(np.log(V_24_sort[i]))\n",
    "    list_lnI.append(np.log(I_24_ampere[i]))\n",
    "\n",
    "def fir_order(lnVa, c0, c1):\n",
    "    return c0 + c1*(lnVa)\n",
    "\n",
    "mod = Model(fir_order)\n",
    "print('parameter names: {}'.format(mod.param_names))\n",
    "print('independent variables: {}'.format(mod.independent_vars))\n",
    "\n",
    "params = mod.make_params(c0=2, c1 = 1)\n",
    "result = mod.fit(list_lnI, params, lnVa=list_lnV)\n",
    "\n",
    "print(result.fit_report(min_correl=0.25))\n",
    "dic_result = result.params.valuesdict()\n",
    "print(dic_result)\n",
    "c0 = dic_result['c0']\n",
    "c1 = dic_result['c1']\n",
    "\n",
    "print(c0, c1)\n",
    "x = V_24_sort\n",
    "y = np.exp(c0)*((V_24_sort)**c1)\n",
    "print(y)\n",
    "\n",
    "plt.scatter(V_15, I_15)\n",
    "plt.scatter(V_20, I_20)\n",
    "plt.scatter(V_22, I_22)\n",
    "plt.scatter(V_24, I_24)\n",
    "plt.scatter(V_25, I_25)\n",
    "plt.scatter(V_30, I_30)\n",
    "plt.scatter(V_31, I_31)\n",
    "\n",
    "\n",
    "plt.plot(V_24_sort , I_24_ampere, 'o', c='blue', markeredgecolor='none')\n",
    "plt.plot(x, y, 'r')\n",
    "plt.yscale('log')\n",
    "plt.xscale('log')\n",
    "plt.xlabel('Va (V)')\n",
    "plt.ylabel('Ia (A)')\n",
    "plt.title('Data of electric current and anode potential for Child\\'s Law (I=2.4 A)')"
   ]
  },
  {
   "cell_type": "code",
   "execution_count": 30,
   "id": "2c80e051",
   "metadata": {},
   "outputs": [
    {
     "name": "stdout",
     "output_type": "stream",
     "text": [
      "[[Model]]\n",
      "    Model(fir_order)\n",
      "[[Fit Statistics]]\n",
      "    # fitting method   = leastsq\n",
      "    # function evals   = 6\n",
      "    # data points      = 7\n",
      "    # variables        = 2\n",
      "    chi-square         = 0.58939271\n",
      "    reduced chi-square = 0.11787854\n",
      "    Akaike info crit   = -13.3220091\n",
      "    Bayesian info crit = -13.4301888\n",
      "[[Variables]]\n",
      "    c0: -5.27423771 +/- 0.17310524 (3.28%) (init = 2)\n",
      "    c1:  1.99299067 +/- 0.13781777 (6.92%) (init = 1)\n",
      "[[Correlations]] (unreported correlations are < 0.250)\n",
      "    C(c0, c1) = -0.662\n",
      "OrderedDict([('c0', -5.2742377145366675), ('c1', 1.9929906737423062)])\n",
      "[[Model]]\n",
      "    Model(fir_order)\n",
      "[[Fit Statistics]]\n",
      "    # fitting method   = leastsq\n",
      "    # function evals   = 6\n",
      "    # data points      = 7\n",
      "    # variables        = 2\n",
      "    chi-square         = 0.77501478\n",
      "    reduced chi-square = 0.15500296\n",
      "    Akaike info crit   = -11.4054833\n",
      "    Bayesian info crit = -11.5136630\n",
      "[[Variables]]\n",
      "    c0: -5.66967239 +/- 0.30116887 (5.31%) (init = 2)\n",
      "    c1:  1.06844207 +/- 0.24035960 (22.50%) (init = 1)\n",
      "[[Correlations]] (unreported correlations are < 0.250)\n",
      "    C(c0, c1) = -0.869\n",
      "OrderedDict([('c0', -5.2742377145366675), ('c1', 1.9929906737423062)])\n",
      "[[Model]]\n",
      "    Model(fir_order)\n",
      "[[Fit Statistics]]\n",
      "    # fitting method   = leastsq\n",
      "    # function evals   = 6\n",
      "    # data points      = 7\n",
      "    # variables        = 2\n",
      "    chi-square         = 0.96952540\n",
      "    reduced chi-square = 0.19390508\n",
      "    Akaike info crit   = -9.83801130\n",
      "    Bayesian info crit = -9.94619100\n",
      "[[Variables]]\n",
      "    c0: -6.02894469 +/- 0.25150592 (4.17%) (init = 2)\n",
      "    c1:  1.59011982 +/- 0.20394459 (12.83%) (init = 1)\n",
      "[[Correlations]] (unreported correlations are < 0.250)\n",
      "    C(c0, c1) = -0.750\n",
      "OrderedDict([('c0', -5.2742377145366675), ('c1', 1.9929906737423062)])\n",
      "[[Model]]\n",
      "    Model(fir_order)\n",
      "[[Fit Statistics]]\n",
      "    # fitting method   = leastsq\n",
      "    # function evals   = 6\n",
      "    # data points      = 7\n",
      "    # variables        = 2\n",
      "    chi-square         = 1.06980277\n",
      "    reduced chi-square = 0.21396055\n",
      "    Akaike info crit   = -9.14905094\n",
      "    Bayesian info crit = -9.25723064\n",
      "[[Variables]]\n",
      "    c0: -5.40411972 +/- 0.25077980 (4.64%) (init = 2)\n",
      "    c1:  2.58388641 +/- 0.20317817 (7.86%) (init = 1)\n",
      "[[Correlations]] (unreported correlations are < 0.250)\n",
      "    C(c0, c1) = -0.717\n",
      "OrderedDict([('c0', -5.2742377145366675), ('c1', 1.9929906737423062)])\n",
      "[[Model]]\n",
      "    Model(fir_order)\n",
      "[[Fit Statistics]]\n",
      "    # fitting method   = leastsq\n",
      "    # function evals   = 6\n",
      "    # data points      = 7\n",
      "    # variables        = 2\n",
      "    chi-square         = 0.17534124\n",
      "    reduced chi-square = 0.03506825\n",
      "    Akaike info crit   = -21.8085199\n",
      "    Bayesian info crit = -21.9166997\n",
      "[[Variables]]\n",
      "    c0: -4.67149496 +/- 0.09575220 (2.05%) (init = 2)\n",
      "    c1:  1.93303230 +/- 0.07714307 (3.99%) (init = 1)\n",
      "[[Correlations]] (unreported correlations are < 0.250)\n",
      "    C(c0, c1) = -0.673\n",
      "OrderedDict([('c0', -5.2742377145366675), ('c1', 1.9929906737423062)])\n",
      "[[Model]]\n",
      "    Model(fir_order)\n",
      "[[Fit Statistics]]\n",
      "    # fitting method   = leastsq\n",
      "    # function evals   = 6\n",
      "    # data points      = 7\n",
      "    # variables        = 2\n",
      "    chi-square         = 0.60353119\n",
      "    reduced chi-square = 0.12070624\n",
      "    Akaike info crit   = -13.1560739\n",
      "    Bayesian info crit = -13.2642536\n",
      "[[Variables]]\n",
      "    c0: -6.40286831 +/- 0.21981267 (3.43%) (init = 2)\n",
      "    c1:  3.02379545 +/- 0.18362668 (6.07%) (init = 1)\n",
      "[[Correlations]] (unreported correlations are < 0.250)\n",
      "    C(c0, c1) = -0.802\n",
      "OrderedDict([('c0', -5.2742377145366675), ('c1', 1.9929906737423062)])\n",
      "[-5.2742377145366675, -5.2742377145366675, -5.2742377145366675, -5.2742377145366675, -5.2742377145366675, -5.2742377145366675] [1.9929906737423062, 1.9929906737423062, 1.9929906737423062, 1.9929906737423062, 1.9929906737423062, 1.9929906737423062]\n"
     ]
    },
    {
     "data": {
      "text/plain": [
       "Text(0.5, 1.0, \"Data of electric current and anode potential for Child's Law\")"
      ]
     },
     "execution_count": 30,
     "metadata": {},
     "output_type": "execute_result"
    },
    {
     "data": {
      "image/png": "[encoded data removed]",
      "text/plain": [
       "<Figure size 720x450 with 1 Axes>"
      ]
     },
     "metadata": {
      "needs_background": "light"
     },
     "output_type": "display_data"
    }
   ],
   "source": [
    "from lmfit import Model, Parameters\n",
    "\n",
    "V_24_sort = np.sort(V_24_chi)\n",
    "I_24_sort = np.sort(I_24_chi)\n",
    "#V_15_sort = np.sort(V_15_chi)\n",
    "#I_15_sort = np.sort(I_15_chi)\n",
    "V_20_sort = np.sort(V_20_chi)\n",
    "I_20_sort = np.sort(I_20_chi)\n",
    "V_22_sort = np.sort(V_22_chi)\n",
    "I_22_sort = np.sort(I_22_chi)\n",
    "V_25_sort = np.sort(V_25_chi)\n",
    "I_25_sort = np.sort(I_25_chi)\n",
    "V_30_sort = np.sort(V_30_chi)\n",
    "I_30_sort = np.sort(I_30_chi)\n",
    "V_31_sort = np.sort(V_31_chi)\n",
    "I_31_sort = np.sort(I_31_chi)\n",
    "list_Vsort = [V_24_sort, V_20_sort, V_22_sort, V_25_sort, V_30_sort, V_31_sort]\n",
    "\n",
    "\n",
    "I_24_ampere = I_24_sort*1e-3\n",
    "I_20_ampere = I_20_sort*1e-3\n",
    "I_22_ampere = I_22_sort*1e-3\n",
    "I_25_ampere = I_25_sort*1e-3\n",
    "#I_15_ampere = I_15_sort*1e-3\n",
    "I_30_ampere = I_30_sort*1e-3\n",
    "I_31_ampere = I_31_sort*1e-3\n",
    "list_Iampere = [I_24_ampere , I_20_ampere ,I_22_ampere ,I_25_ampere,I_30_ampere ,I_31_ampere]\n",
    "\n",
    "\n",
    "list_lnI24 = []\n",
    "list_lnV24 = []\n",
    "list_lnI20 = []\n",
    "list_lnV20 = []\n",
    "list_lnI22 = []\n",
    "list_lnV22 = []\n",
    "list_lnI25 = []\n",
    "list_lnV25 = []\n",
    "list_lnI30 = []\n",
    "list_lnV30 = []\n",
    "list_lnI31 = []\n",
    "list_lnV31 = []\n",
    "\n",
    "for i in range(len(V_24_sort)):\n",
    "    list_lnV24.append(np.log(V_24_sort[i]))\n",
    "    list_lnI24.append(np.log(I_24_ampere[i]))\n",
    "    list_lnV20.append(np.log(V_20_sort[i]))\n",
    "    list_lnI20.append(np.log(I_20_ampere[i]))\n",
    "    list_lnV22.append(np.log(V_22_sort[i]))\n",
    "    list_lnI22.append(np.log(I_22_ampere[i]))\n",
    "    list_lnV25.append(np.log(V_25_sort[i]))\n",
    "    list_lnI25.append(np.log(I_25_ampere[i]))\n",
    "    list_lnV30.append(np.log(V_30_sort[i]))\n",
    "    list_lnI30.append(np.log(I_30_ampere[i]))\n",
    "    list_lnV31.append(np.log(V_31_sort[i]))\n",
    "    list_lnI31.append(np.log(I_31_ampere[i]))\n",
    "\n",
    "list_lnV = [list_lnV24, list_lnV20, list_lnV22, list_lnV25, list_lnV30, list_lnV31]\n",
    "list_lnI = [list_lnI24, list_lnI20, list_lnI22, list_lnI25, list_lnI30, list_lnI31]\n",
    "\n",
    "def fir_order(lnVa, c0, c1):\n",
    "    return c0 + c1*(lnVa)\n",
    "\n",
    "mod = Model(fir_order)\n",
    "#print('parameter names: {}'.format(mod.param_names))\n",
    "#print('independent variables: {}'.format(mod.independent_vars))\n",
    "params_list = []\n",
    "results_list = []\n",
    "for i in range(6):\n",
    "    params_list.append(mod.make_params(c0=2, c1 = 1))\n",
    "    results_list.append(mod.fit(list_lnI[i], params, lnVa=list_lnV[i]))\n",
    "\n",
    "dic_results = []\n",
    "c0_list = []\n",
    "c1_list = []\n",
    "for i in range(len(list_lnI)):\n",
    "    print(results_list[i].fit_report(min_correl=0.25))\n",
    "    dic_results.append(result.params.valuesdict())\n",
    "    print(dic_results[i])\n",
    "    c0_list.append(dic_results[i]['c0'])\n",
    "    c1_list.append(dic_results[i]['c1'])\n",
    "\n",
    "print(c0_list, c1_list)\n",
    "\n",
    "x_list = []\n",
    "y_list = []\n",
    "\n",
    "for i in range(len(list_lnI)):\n",
    "    x_list.append(list_Vsort[i])\n",
    "    y_list.append(np.exp(c0_list[i])*((list_Vsort[i])**c1_list[i]))\n",
    "\n",
    "24, 20, 22, 25, 30 ,31\n",
    "label_list_scatter =['Data for 2.4 A', 'Data for 2.0 A', 'Data for 2.2 A', 'Data for 2.5 A', 'Data for 3.0 A', 'Data for 3.1 A']\n",
    "label_list_fit = ['Fit for 2.4 A', 'Fit for 2.0 A', 'Fit for 2.2 A', 'Fit for 2.5 A', 'Fit for 3.0 A', 'Fit for 3.1 A']\n",
    "for i in range(len(list_lnI)):\n",
    "    plt.plot(list_Vsort[i] , list_Iampere[i], 'o', markeredgecolor='none', label = label_list_scatter[i])\n",
    "    plt.plot(x_list[i], y_list[i], label = label_list_fit[i])\n",
    "    \n",
    "    \n",
    "plt.legend()\n",
    "plt.yscale('log')\n",
    "plt.xscale('log')\n",
    "plt.xlabel('Va (V)')\n",
    "plt.ylabel('Ia (A)')\n",
    "plt.title('Data of electric current and anode potential for Child\\'s Law')"
   ]
  },
  {
   "cell_type": "code",
   "execution_count": 8,
   "id": "e9857f2c",
   "metadata": {},
   "outputs": [
    {
     "name": "stdout",
     "output_type": "stream",
     "text": [
      "5667.935073353665\n"
     ]
    }
   ],
   "source": [
    "c0 = -5.27423771#1.63351755\n",
    "k1 = np.exp(c0)\n",
    "epsilon0 = 8.85e-12\n",
    "l = 97e-3\n",
    "b = 14.7e-3\n",
    "beta2 = 1.072\n",
    "em = 0.5*(9*b*beta2*k1/(8*np.pi*epsilon0*l))**2\n",
    "print(em*1e-11)"
   ]
  },
  {
   "cell_type": "code",
   "execution_count": 9,
   "id": "44b17e3d",
   "metadata": {},
   "outputs": [
    {
     "name": "stdout",
     "output_type": "stream",
     "text": [
      "[1.59503253e+13 2.06725626e+13 2.37575815e+13 2.58992423e+13\n",
      " 3.91049799e+13 4.36501086e+13]\n",
      "parameter names: ['c0', 'c1']\n",
      "independent variables: ['lnpot']\n",
      "[[Model]]\n",
      "    Model(fir_order)\n",
      "[[Fit Statistics]]\n",
      "    # fitting method   = leastsq\n",
      "    # function evals   = 7\n",
      "    # data points      = 6\n",
      "    # variables        = 2\n",
      "    chi-square         = 2.4783e-06\n",
      "    reduced chi-square = 6.1957e-07\n",
      "    Akaike info crit   = -84.1981974\n",
      "    Bayesian info crit = -84.6146785\n",
      "[[Variables]]\n",
      "    c0:  7.12774237 +/- 0.00222830 (0.03%) (init = 10)\n",
      "    c1:  0.20651261 +/- 7.5983e-04 (0.37%) (init = 1)\n",
      "[[Correlations]] (unreported correlations are < 0.250)\n",
      "    C(c0, c1) = -0.990\n",
      "OrderedDict([('c0', 7.12774237375839), ('c1', 0.2065126074567744)])\n",
      "7.12774237375839 0.2065126074567744\n",
      "[0.48523862 0.91276247 1.29093501 1.5859393  4.23646454 5.53224546]\n"
     ]
    }
   ],
   "source": [
    "#5.11 - Plot de T^4 por potência (Watts). Nesse caso, plotarei tanto com Ti quanto com Tr.\n",
    "I_all = np.concatenate((I_20, I_22, I_24, I_25, I_30, I_31))\n",
    "V_all = np.concatenate((V_20, V_22, V_24, V_25, V_30, V_31))\n",
    "R_W = np.array([2.448,2.654,2.767,2.844,3.240,3.351])\n",
    "Pot = R_W*(I_w**2)\n",
    "Ti4 = T_i**4\n",
    "Tr4 = T_r**4\n",
    "Tm4 = ((T_i+T_r)/2)**4\n",
    "T_m = (T_r+T_i)/2\n",
    "print(Tm4)\n",
    "list_lnT = []\n",
    "list_lnPot = []\n",
    "etm = (T_i-T_r)\n",
    "etm4 = 4*(((T_i+T_r)/2)**3)*abs(T_i-T_r)\n",
    "for i in range(len(T_i)):\n",
    "    list_lnT.append(np.log(T_m[i]))\n",
    "\n",
    "list_lnPot = np.log(Pot)\n",
    "\n",
    "\n",
    "###FIT\n",
    "from lmfit import Model, Parameters\n",
    "\n",
    "#def fir_order(pot, c0, sigma):\n",
    "#    return c0 + sigma*pot\n",
    "def fir_order(lnpot, c0, c1):\n",
    "    return c0 + c1*lnpot\n",
    "\n",
    "mod = Model(fir_order)\n",
    "print('parameter names: {}'.format(mod.param_names))\n",
    "print('independent variables: {}'.format(mod.independent_vars))\n",
    "\n",
    "params = mod.make_params(c0=10, c1 = 1)\n",
    "result = mod.fit(list_lnT, params, lnpot=list_lnPot)\n",
    "\n",
    "print(result.fit_report(min_correl=0.25))\n",
    "dic_result = result.params.valuesdict()\n",
    "print(dic_result)\n",
    "c0_sb = dic_result['c0']\n",
    "c1_sb = dic_result['c1']\n",
    "\n",
    "print(c0_sb, c1_sb)\n",
    "x = Pot\n",
    "y = np.exp(c0)*(Pot**c1)\n",
    "print(y)"
   ]
  },
  {
   "cell_type": "code",
   "execution_count": 10,
   "id": "44cf9082",
   "metadata": {},
   "outputs": [
    {
     "name": "stdout",
     "output_type": "stream",
     "text": [
      "[2.28356473 2.60059326 2.77452602 2.87779298 3.37079691 3.50469853] [7.600125085749365, 7.6649571151539515, 7.699730704519734, 7.7213087069712705, 7.82431773433729, 7.851806721263372]\n"
     ]
    },
    {
     "data": {
      "image/png": "[encoded data removed]",
      "text/plain": [
       "<Figure size 720x450 with 1 Axes>"
      ]
     },
     "metadata": {
      "needs_background": "light"
     },
     "output_type": "display_data"
    }
   ],
   "source": [
    "error_lnt = []\n",
    "for i in range(len(list_lnT)):\n",
    "    error_lnt.append(etm[i]/(2*T_m[i]))\n",
    "\n",
    "print(list_lnPot, list_lnT)\n",
    "plt.loglog(list_lnPot, list_lnT, color='blue', label='Data')\n",
    "plt.errorbar(list_lnPot, list_lnT, yerr=error_lnt, fmt=\"o\")\n",
    "linear = []\n",
    "for i in range(len(list_lnPot)):\n",
    "    linear.append(c0_sb+c1_sb*list_lnPot[i])\n",
    "plt.plot(list_lnPot, linear, 'black', label = 'Linear fit')\n",
    "#plt.scatter(Pot, Tr4, color='red', label='Tr')\n",
    "#plt.plot(Pot, (Ti4+Tr4)/2, color = 'black', label='Average')\n",
    "plt.xlabel('log(P/1W)')\n",
    "plt.ylabel('log(T/1K)')\n",
    "plt.title('Logarithm of the temperature by logarithm of the power')\n",
    "plt.legend()\n",
    "plt.show()"
   ]
  },
  {
   "cell_type": "code",
   "execution_count": 42,
   "id": "567b03a7",
   "metadata": {},
   "outputs": [
    {
     "name": "stdout",
     "output_type": "stream",
     "text": [
      "7.982865400233912e-10\n",
      "e_T = 0.24811297926000844\n",
      "e_T_2= 0.0140791276900069\n"
     ]
    }
   ],
   "source": [
    "l = 97e-3\n",
    "d = 0.1778e-3\n",
    "sigma_highest = Pot[5]/(np.pi*l*d*Tm4[5])\n",
    "print(1/(2.3120e+13*np.pi*l*d))\n",
    "print(\"e_T =\", sigma_highest/5.67e-8)\n",
    "print(\"e_T_2=\", 7.982865400233912e-10/5.67e-8)"
   ]
  },
  {
   "cell_type": "code",
   "execution_count": 6,
   "id": "5e5aa6f1",
   "metadata": {},
   "outputs": [
    {
     "data": {
      "text/html": [
       "<div>\n",
       "<style scoped>\n",
       "    .dataframe tbody tr th:only-of-type {\n",
       "        vertical-align: middle;\n",
       "    }\n",
       "\n",
       "    .dataframe tbody tr th {\n",
       "        vertical-align: top;\n",
       "    }\n",
       "\n",
       "    .dataframe thead th {\n",
       "        text-align: right;\n",
       "    }\n",
       "</style>\n",
       "<table border=\"1\" class=\"dataframe\">\n",
       "  <thead>\n",
       "    <tr style=\"text-align: right;\">\n",
       "      <th></th>\n",
       "      <th>Charges</th>\n",
       "      <th>n</th>\n",
       "    </tr>\n",
       "  </thead>\n",
       "  <tbody>\n",
       "    <tr>\n",
       "      <th>0</th>\n",
       "      <td>1.425672e-19</td>\n",
       "      <td>1</td>\n",
       "    </tr>\n",
       "    <tr>\n",
       "      <th>1</th>\n",
       "      <td>2.779913e-19</td>\n",
       "      <td>2</td>\n",
       "    </tr>\n",
       "    <tr>\n",
       "      <th>2</th>\n",
       "      <td>6.841428e-19</td>\n",
       "      <td>4</td>\n",
       "    </tr>\n",
       "    <tr>\n",
       "      <th>3</th>\n",
       "      <td>3.044418e-19</td>\n",
       "      <td>2</td>\n",
       "    </tr>\n",
       "    <tr>\n",
       "      <th>4</th>\n",
       "      <td>2.341905e-19</td>\n",
       "      <td>1</td>\n",
       "    </tr>\n",
       "  </tbody>\n",
       "</table>\n",
       "</div>"
      ],
      "text/plain": [
       "        Charges  n\n",
       "0  1.425672e-19  1\n",
       "1  2.779913e-19  2\n",
       "2  6.841428e-19  4\n",
       "3  3.044418e-19  2\n",
       "4  2.341905e-19  1"
      ]
     },
     "execution_count": 6,
     "metadata": {},
     "output_type": "execute_result"
    }
   ],
   "source": [
    "charges_measured = [1.4256723978792294e-19, \n",
    "                    2.7799131371430147e-19, \n",
    "                    6.841428093179571e-19, \n",
    "                    3.0444177897829467e-19, \n",
    "                    2.3419048305283005e-19,\n",
    "                    1.6512305854173612e-19,\n",
    "                    1.1852997823112112e-18,\n",
    "                    5.742610450630125e-19,\n",
    "                    1.4075904881005605e-18,\n",
    "                    5.3164349995342675e-19,\n",
    "                    1.5603666413383012e-19]\n",
    "n_measured = [1, 2, 4, 2, 1, 1, 7, 4, 9, 3, 1]\n",
    "\n",
    "data = {'Charges':charges_measured,\n",
    "        'n':n_measured}\n",
    " \n",
    "# Create DataFrame\n",
    "df = pd.DataFrame(data)\n",
    "df.head()"
   ]
  },
  {
   "cell_type": "code",
   "execution_count": 7,
   "id": "d18e4c87",
   "metadata": {},
   "outputs": [
    {
     "name": "stdout",
     "output_type": "stream",
     "text": [
      "parameter names: ['c0', 'e']\n",
      "independent variables: ['number_e']\n"
     ]
    }
   ],
   "source": [
    "from lmfit import Model, Parameters\n",
    "\n",
    "def fir_order(number_e, c0, e):\n",
    "    return c0 + e*number_e\n",
    "\n",
    "mod = Model(fir_order)\n",
    "print('parameter names: {}'.format(mod.param_names))\n",
    "print('independent variables: {}'.format(mod.independent_vars))"
   ]
  },
  {
   "cell_type": "code",
   "execution_count": 8,
   "id": "30f3c714",
   "metadata": {},
   "outputs": [
    {
     "name": "stdout",
     "output_type": "stream",
     "text": [
      "[[Model]]\n",
      "    Model(fir_order)\n",
      "[[Fit Statistics]]\n",
      "    # fitting method   = leastsq\n",
      "    # function evals   = 6\n",
      "    # data points      = 11\n",
      "    # variables        = 2\n",
      "    chi-square         = 2.1736e-38\n",
      "    reduced chi-square = 2.4151e-39\n",
      "    Akaike info crit   = -976.317203\n",
      "    Bayesian info crit = -975.521412\n",
      "[[Variables]]\n",
      "    c0:  6.8474e-21 +/- 2.3683e-20 (345.86%) (init = 0)\n",
      "    e:   1.5966e-19 +/- 5.8063e-21 (3.64%) (init = 1e-19)\n",
      "[[Correlations]] (unreported correlations are < 0.250)\n",
      "    C(c0, e) = -0.780\n",
      "OrderedDict([('c0', 6.847397478246938e-21), ('e', 1.596561940198391e-19)])\n"
     ]
    }
   ],
   "source": [
    "params = mod.make_params(c0=0, e=1e-19)\n",
    "result = mod.fit(df['Charges'], params, number_e=df['n'])\n",
    "\n",
    "print(result.fit_report(min_correl=0.25))\n",
    "dic_result = result.params.valuesdict()\n",
    "print(dic_result)\n",
    "c0 = dic_result['c0']\n",
    "el = dic_result['e']"
   ]
  },
  {
   "cell_type": "code",
   "execution_count": 9,
   "id": "2d9f9f35",
   "metadata": {},
   "outputs": [
    {
     "name": "stderr",
     "output_type": "stream",
     "text": [
      "findfont: Font family ['Arial'] not found. Falling back to DejaVu Sans.\n",
      "findfont: Font family ['Arial'] not found. Falling back to DejaVu Sans.\n"
     ]
    },
    {
     "data": {
      "image/png": "[encoded data removed]",
      "text/plain": [
       "<Figure size 720x450 with 1 Axes>"
      ]
     },
     "metadata": {
      "needs_background": "light"
     },
     "output_type": "display_data"
    }
   ],
   "source": [
    "x = n_measured\n",
    "y = c0+el*np.array(n_measured)\n",
    "#print(y)\n",
    "\n",
    "y2 = charges_measured\n",
    "plt.plot(x, y2, '.', label='Measurements')\n",
    "plt.plot(x, y, 'r', label=\"Linear fit\")\n",
    "plt.title('Charge as a function of the estimated number of electrons')\n",
    "plt.xlabel('x', color='#1C2833')\n",
    "plt.ylabel('y', color='#1C2833')\n",
    "plt.legend(loc='upper left')\n",
    "plt.grid()\n",
    "plt.show()"
   ]
  },
  {
   "cell_type": "code",
   "execution_count": 1,
   "id": "f56cd452",
   "metadata": {},
   "outputs": [
    {
     "name": "stdout",
     "output_type": "stream",
     "text": [
      "4.842319314060289 +/- 0.006111032443153919\n"
     ]
    }
   ],
   "source": [
    "c1 = 0.20651261 \n",
    "delta = 2.6062e-04\n",
    "exponent = 1/c1\n",
    "delta_exponent = delta/(c1**2)\n",
    "print(exponent, \"+/-\", delta_exponent)"
   ]
  },
  {
   "cell_type": "code",
   "execution_count": null,
   "id": "6fa47f9d",
   "metadata": {},
   "outputs": [],
   "source": []
  },
  {
   "cell_type": "code",
   "execution_count": null,
   "id": "2f36a0a5",
   "metadata": {},
   "outputs": [],
   "source": []
  }
 ],
 "metadata": {
  "kernelspec": {
   "display_name": "Python 3 (ipykernel)",
   "language": "python",
   "name": "python3"
  },
  "language_info": {
   "codemirror_mode": {
    "name": "ipython",
    "version": 3
   },
   "file_extension": ".py",
   "mimetype": "text/x-python",
   "name": "python",
   "nbconvert_exporter": "python",
   "pygments_lexer": "ipython3",
   "version": "3.8.10"
  }
 },
 "nbformat": 4,
 "nbformat_minor": 5
}
