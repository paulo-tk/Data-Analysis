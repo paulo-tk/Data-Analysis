{
 "cells": [
  {
   "cell_type": "code",
   "execution_count": 2,
   "id": "cd7964f9",
   "metadata": {},
   "outputs": [],
   "source": [
    "import matplotlib\n",
    "import matplotlib.pyplot as plt  # importar a bilioteca pyplot para fazer gráficos\n",
    "from matplotlib import colors\n",
    "#Comandos opcionais para formatar gráfico\n",
    "font = {'family' : 'Arial',\n",
    "        'weight' : 'normal',\n",
    "        'size'   : 12}\t\n",
    "lines = {'linewidth' : 1.0}\n",
    "figure = {'figsize' : [10.0, 10/1.6]}\n",
    "matplotlib.rc('font', **font)\n",
    "matplotlib.rc('lines', **lines)\n",
    "matplotlib.rc('figure', **figure)\n",
    "\n",
    "import numpy as np   # importar a biblioteca Numpy para lidar com matrizes\n",
    "import pandas as pd   # importa bilioteca pandas para  lidar com processamento de dados\n",
    "import os #com\n",
    "import glob2 as glob\n",
    "from scipy.optimize import curve_fit # pacote para ajuste de curvas\n",
    "from scipy.signal import find_peaks"
   ]
  },
  {
   "cell_type": "code",
   "execution_count": 3,
   "id": "4ef6b8a4",
   "metadata": {},
   "outputs": [],
   "source": [
    "#\"_m\" in the end means \"measured\"\n",
    "#\"_t\" in the end means \"theoretical\"\n",
    "#\"_f\" in the end means \"fit\"\n",
    "positions_m = []"
   ]
  },
  {
   "cell_type": "code",
   "execution_count": 4,
   "id": "a253b5c6",
   "metadata": {},
   "outputs": [],
   "source": [
    "d_plates = 7.6e-3\n",
    "rho_oil = 886\n",
    "g = 9.81\n",
    "n_air = 1.88810e-5\n",
    "b = 8.2e-3\n",
    "press = 10210\n",
    "vf = 0.03111e-3 #0.0523e-3#0.0917e-3#0.1614e-3\n",
    "#0.1301e-3#0.1514e-3#0.0379e-3#0.0571e-3#0.0549e-3#0.0581e-3#0.0905e-3#0.0464e-3\n",
    "vr = 0.19164e-3 #0.1505e-3#0.2688e-3#0.3750e-3\n",
    "#0.1402e-3#0.3290e-3#0.2862e-3#0.2163e-3#0.3179e-3#0.2597e-3#0.3801e-3#0.168833e-3\n",
    "\n",
    "V = 504"
   ]
  },
  {
   "cell_type": "code",
   "execution_count": 5,
   "id": "76ade482",
   "metadata": {},
   "outputs": [
    {
     "name": "stdout",
     "output_type": "stream",
     "text": [
      "raio = 2.806124969129333e-07\n",
      "carga = 8.685865909285543e-20\n"
     ]
    }
   ],
   "source": [
    "a = np.sqrt((b/(2*press))**2+9*n_air*vf/(2*rho_oil*g))-b/(2*press)\n",
    "q=(4*np.pi/3)*(a**3)*rho_oil*g*d_plates*(vf+vr)/(V*vf)\n",
    "print(\"raio =\", a)\n",
    "print(\"carga =\", q)"
   ]
  },
  {
   "cell_type": "code",
   "execution_count": 6,
   "id": "5e5aa6f1",
   "metadata": {},
   "outputs": [
    {
     "data": {
      "text/html": [
       "<div>\n",
       "<style scoped>\n",
       "    .dataframe tbody tr th:only-of-type {\n",
       "        vertical-align: middle;\n",
       "    }\n",
       "\n",
       "    .dataframe tbody tr th {\n",
       "        vertical-align: top;\n",
       "    }\n",
       "\n",
       "    .dataframe thead th {\n",
       "        text-align: right;\n",
       "    }\n",
       "</style>\n",
       "<table border=\"1\" class=\"dataframe\">\n",
       "  <thead>\n",
       "    <tr style=\"text-align: right;\">\n",
       "      <th></th>\n",
       "      <th>Charges</th>\n",
       "      <th>n</th>\n",
       "    </tr>\n",
       "  </thead>\n",
       "  <tbody>\n",
       "    <tr>\n",
       "      <th>0</th>\n",
       "      <td>1.425672e-19</td>\n",
       "      <td>1</td>\n",
       "    </tr>\n",
       "    <tr>\n",
       "      <th>1</th>\n",
       "      <td>2.779913e-19</td>\n",
       "      <td>2</td>\n",
       "    </tr>\n",
       "    <tr>\n",
       "      <th>2</th>\n",
       "      <td>6.841428e-19</td>\n",
       "      <td>4</td>\n",
       "    </tr>\n",
       "    <tr>\n",
       "      <th>3</th>\n",
       "      <td>3.044418e-19</td>\n",
       "      <td>2</td>\n",
       "    </tr>\n",
       "    <tr>\n",
       "      <th>4</th>\n",
       "      <td>2.341905e-19</td>\n",
       "      <td>1</td>\n",
       "    </tr>\n",
       "  </tbody>\n",
       "</table>\n",
       "</div>"
      ],
      "text/plain": [
       "        Charges  n\n",
       "0  1.425672e-19  1\n",
       "1  2.779913e-19  2\n",
       "2  6.841428e-19  4\n",
       "3  3.044418e-19  2\n",
       "4  2.341905e-19  1"
      ]
     },
     "execution_count": 6,
     "metadata": {},
     "output_type": "execute_result"
    }
   ],
   "source": [
    "charges_measured = [1.4256723978792294e-19, \n",
    "                    2.7799131371430147e-19, \n",
    "                    6.841428093179571e-19, \n",
    "                    3.0444177897829467e-19, \n",
    "                    2.3419048305283005e-19,\n",
    "                    1.6512305854173612e-19,\n",
    "                    1.1852997823112112e-18,\n",
    "                    5.742610450630125e-19,\n",
    "                    1.4075904881005605e-18,\n",
    "                    5.3164349995342675e-19,\n",
    "                    1.5603666413383012e-19]\n",
    "n_measured = [1, 2, 4, 2, 1, 1, 7, 4, 9, 3, 1]\n",
    "\n",
    "data = {'Charges':charges_measured,\n",
    "        'n':n_measured}\n",
    " \n",
    "# Create DataFrame\n",
    "df = pd.DataFrame(data)\n",
    "df.head()"
   ]
  },
  {
   "cell_type": "code",
   "execution_count": 7,
   "id": "d18e4c87",
   "metadata": {},
   "outputs": [
    {
     "name": "stdout",
     "output_type": "stream",
     "text": [
      "parameter names: ['c0', 'e']\n",
      "independent variables: ['number_e']\n"
     ]
    }
   ],
   "source": [
    "from lmfit import Model, Parameters\n",
    "\n",
    "def fir_order(number_e, c0, e):\n",
    "    return c0 + e*number_e\n",
    "\n",
    "mod = Model(fir_order)\n",
    "print('parameter names: {}'.format(mod.param_names))\n",
    "print('independent variables: {}'.format(mod.independent_vars))"
   ]
  },
  {
   "cell_type": "code",
   "execution_count": 8,
   "id": "30f3c714",
   "metadata": {},
   "outputs": [
    {
     "name": "stdout",
     "output_type": "stream",
     "text": [
      "[[Model]]\n",
      "    Model(fir_order)\n",
      "[[Fit Statistics]]\n",
      "    # fitting method   = leastsq\n",
      "    # function evals   = 6\n",
      "    # data points      = 11\n",
      "    # variables        = 2\n",
      "    chi-square         = 2.1736e-38\n",
      "    reduced chi-square = 2.4151e-39\n",
      "    Akaike info crit   = -976.317203\n",
      "    Bayesian info crit = -975.521412\n",
      "[[Variables]]\n",
      "    c0:  6.8474e-21 +/- 2.3683e-20 (345.86%) (init = 0)\n",
      "    e:   1.5966e-19 +/- 5.8063e-21 (3.64%) (init = 1e-19)\n",
      "[[Correlations]] (unreported correlations are < 0.250)\n",
      "    C(c0, e) = -0.780\n",
      "OrderedDict([('c0', 6.847397478246938e-21), ('e', 1.596561940198391e-19)])\n"
     ]
    }
   ],
   "source": [
    "params = mod.make_params(c0=0, e=1e-19)\n",
    "result = mod.fit(df['Charges'], params, number_e=df['n'])\n",
    "\n",
    "print(result.fit_report(min_correl=0.25))\n",
    "dic_result = result.params.valuesdict()\n",
    "print(dic_result)\n",
    "c0 = dic_result['c0']\n",
    "el = dic_result['e']"
   ]
  },
  {
   "cell_type": "code",
   "execution_count": 9,
   "id": "2d9f9f35",
   "metadata": {},
   "outputs": [
    {
     "name": "stderr",
     "output_type": "stream",
     "text": [
      "findfont: Font family ['Arial'] not found. Falling back to DejaVu Sans.\n",
      "findfont: Font family ['Arial'] not found. Falling back to DejaVu Sans.\n"
     ]
    },
    {
     "data": {
      "image/png": "[encoded data removed]",
      "text/plain": [
       "<Figure size 720x450 with 1 Axes>"
      ]
     },
     "metadata": {
      "needs_background": "light"
     },
     "output_type": "display_data"
    }
   ],
   "source": [
    "x = n_measured\n",
    "y = c0+el*np.array(n_measured)\n",
    "#print(y)\n",
    "\n",
    "y2 = charges_measured\n",
    "plt.plot(x, y2, '.', label='Measurements')\n",
    "plt.plot(x, y, 'r', label=\"Linear fit\")\n",
    "plt.title('Charge as a function of the estimated number of electrons')\n",
    "plt.xlabel('x', color='#1C2833')\n",
    "plt.ylabel('y', color='#1C2833')\n",
    "plt.legend(loc='upper left')\n",
    "plt.grid()\n",
    "plt.show()"
   ]
  },
  {
   "cell_type": "code",
   "execution_count": null,
   "id": "f56cd452",
   "metadata": {},
   "outputs": [],
   "source": []
  },
  {
   "cell_type": "code",
   "execution_count": null,
   "id": "6fa47f9d",
   "metadata": {},
   "outputs": [],
   "source": []
  },
  {
   "cell_type": "code",
   "execution_count": null,
   "id": "2f36a0a5",
   "metadata": {},
   "outputs": [],
   "source": []
  }
 ],
 "metadata": {
  "kernelspec": {
   "display_name": "Python 3 (ipykernel)",
   "language": "python",
   "name": "python3"
  },
  "language_info": {
   "codemirror_mode": {
    "name": "ipython",
    "version": 3
   },
   "file_extension": ".py",
   "mimetype": "text/x-python",
   "name": "python",
   "nbconvert_exporter": "python",
   "pygments_lexer": "ipython3",
   "version": "3.8.10"
  }
 },
 "nbformat": 4,
 "nbformat_minor": 5
}
